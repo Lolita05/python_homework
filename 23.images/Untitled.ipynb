{
 "cells": [
  {
   "cell_type": "code",
   "execution_count": 13,
   "metadata": {},
   "outputs": [],
   "source": [
    "import random\n",
    "from PIL import Image, ImageDraw"
   ]
  },
  {
   "cell_type": "code",
   "execution_count": 55,
   "metadata": {},
   "outputs": [],
   "source": [
    "# градации серого\n",
    "def image_grey(image):\n",
    "    image = Image.open(image)\n",
    "    draw = ImageDraw.Draw(image) #Создаем инструмент для рисования. \n",
    "    width = image.size[0] # Ширина \n",
    "    height = image.size[1] # Высота \n",
    "    pix = image.load() # Значение пикселей\n",
    "    for i in range(width):\n",
    "        for j in range(height):\n",
    "            a = pix[i, j][0]\n",
    "            b = pix[i, j][1]\n",
    "            c = pix[i, j][2]\n",
    "            S = (a + b + c) // 3\n",
    "            draw.point((i, j), (S, S, S))\n",
    "    del draw\n",
    "    image.save('AKVPgg5Ahko_grey.jpg')"
   ]
  },
  {
   "cell_type": "code",
   "execution_count": 56,
   "metadata": {},
   "outputs": [],
   "source": [
    "image_grey('AKVPgg5Ahko.jpg')"
   ]
  },
  {
   "cell_type": "code",
   "execution_count": 57,
   "metadata": {},
   "outputs": [],
   "source": [
    "# негатив\n",
    "def image_neg(image):\n",
    "    image = Image.open(image)\n",
    "    draw = ImageDraw.Draw(image) #Создаем инструмент для рисования. \n",
    "    width = image.size[0] # Ширина \n",
    "    height = image.size[1] # Высота \n",
    "    pix = image.load() # Значение пикселей\n",
    "    for i in range(width):\n",
    "        for j in range(height):\n",
    "            a = pix[i, j][0]\n",
    "            b = pix[i, j][1]\n",
    "            c = pix[i, j][2]\n",
    "            draw.point((i, j), (255 - a, 255 - b, 255 - c))\n",
    "    del draw\n",
    "    image.save('AKVPgg5Ahko_neg.jpg')"
   ]
  },
  {
   "cell_type": "code",
   "execution_count": 58,
   "metadata": {},
   "outputs": [],
   "source": [
    "image_neg('AKVPgg5Ahko.jpg')"
   ]
  },
  {
   "cell_type": "code",
   "execution_count": 59,
   "metadata": {},
   "outputs": [],
   "source": [
    "def image_bw(image):\n",
    "    image = Image.open(image)\n",
    "    draw = ImageDraw.Draw(image) #Создаем инструмент для рисования. \n",
    "    width = image.size[0] # Ширина \n",
    "    height = image.size[1] # Высота \n",
    "    pix = image.load() # Значение пикселей\n",
    "    factor = int(input('factor:')) # выберите походящий фактор\n",
    "    for i in range(width):\n",
    "        for j in range(height):\n",
    "            a = pix[i, j][0]\n",
    "            b = pix[i, j][1]\n",
    "            c = pix[i, j][2]\n",
    "            S = a + b + c\n",
    "            if (S > (((255 + factor) // 2) * 3)):\n",
    "                a, b, c = 255, 255, 255\n",
    "            else:\n",
    "                a, b, c = 0, 0, 0\n",
    "            draw.point((i, j), (a, b, c))\n",
    "    del draw\n",
    "    image.save('AKVPgg5Ahko_bw.jpg')"
   ]
  },
  {
   "cell_type": "code",
   "execution_count": 60,
   "metadata": {},
   "outputs": [
    {
     "name": "stdout",
     "output_type": "stream",
     "text": [
      "factor:0\n"
     ]
    }
   ],
   "source": [
    "image_bw('AKVPgg5Ahko.jpg')"
   ]
  },
  {
   "cell_type": "code",
   "execution_count": 61,
   "metadata": {},
   "outputs": [],
   "source": [
    "# яркость\n",
    "def image_bright(image):\n",
    "    image = Image.open(image)\n",
    "    draw = ImageDraw.Draw(image) #Создаем инструмент для рисования. \n",
    "    width = image.size[0] # Ширина \n",
    "    height = image.size[1] # Высота \n",
    "    pix = image.load() # Значение пикселей\n",
    "    factor = int(input('factor:'))\n",
    "    for i in range(width):\n",
    "        for j in range(height):\n",
    "            a = pix[i, j][0] + factor\n",
    "            b = pix[i, j][1] + factor\n",
    "            c = pix[i, j][2] + factor\n",
    "            if (a < 0):\n",
    "                a = 0\n",
    "            if (b < 0):\n",
    "                b = 0\n",
    "            if (c < 0):\n",
    "                c = 0\n",
    "            if (a > 255):\n",
    "                a = 255\n",
    "            if (b > 255):\n",
    "                b = 255\n",
    "            if (c > 255):\n",
    "                c = 255\n",
    "            draw.point((i, j), (a, b, c))\n",
    "    del draw\n",
    "    image.save('AKVPgg5Ahko_bright.jpg')"
   ]
  },
  {
   "cell_type": "code",
   "execution_count": 62,
   "metadata": {},
   "outputs": [
    {
     "name": "stdout",
     "output_type": "stream",
     "text": [
      "factor:-50\n"
     ]
    }
   ],
   "source": [
    "image_bright('AKVPgg5Ahko.jpg')"
   ]
  },
  {
   "cell_type": "code",
   "execution_count": 68,
   "metadata": {},
   "outputs": [],
   "source": [
    "# зернистость\n",
    "def image_noise(image):\n",
    "    image = Image.open(image)\n",
    "    draw = ImageDraw.Draw(image) #Создаем инструмент для рисования. \n",
    "    width = image.size[0] # Ширина \n",
    "    height = image.size[1] # Высота \n",
    "    pix = image.load() # Значение пикселей\n",
    "    factor = int(input('factor:'))\n",
    "    for i in range(width):\n",
    "        for j in range(height):\n",
    "            rand = random.randint(-factor, factor)\n",
    "            a = pix[i, j][0] + rand\n",
    "            b = pix[i, j][1] + rand\n",
    "            c = pix[i, j][2] + rand\n",
    "            if (a < 0):\n",
    "                a = 0\n",
    "            if (b < 0):\n",
    "                b = 0\n",
    "            if (c < 0):\n",
    "                c = 0\n",
    "            if (a > 255):\n",
    "                a = 255\n",
    "            if (b > 255):\n",
    "                b = 255\n",
    "            if (c > 255):\n",
    "                c = 255\n",
    "            draw.point((i, j), (a, b, c))\n",
    "    del draw\n",
    "    image.save('AKVPgg5Ahko_noise.jpg')"
   ]
  },
  {
   "cell_type": "code",
   "execution_count": 70,
   "metadata": {},
   "outputs": [
    {
     "name": "stdout",
     "output_type": "stream",
     "text": [
      "factor:100\n"
     ]
    }
   ],
   "source": [
    "image_noise('AKVPgg5Ahko.jpg')"
   ]
  },
  {
   "cell_type": "code",
   "execution_count": 91,
   "metadata": {},
   "outputs": [],
   "source": [
    "def image_purple(image):\n",
    "    image = Image.open(image)\n",
    "    draw = ImageDraw.Draw(image) #Создаем инструмент для рисования. \n",
    "    width = image.size[0] # Ширина \n",
    "    height = image.size[1] # Высота \n",
    "    pix = image.load() # Значение пикселей\n",
    "    for i in range(width):\n",
    "        for j in range(height):\n",
    "            a = pix[i, j][0]\n",
    "            b = pix[i, j][1]\n",
    "            c = pix[i, j][2]\n",
    "            draw.point((i, j), (255, b, 255))\n",
    "    del draw\n",
    "    image.save('AKVPgg5Ahko_purple.jpg')"
   ]
  },
  {
   "cell_type": "code",
   "execution_count": 93,
   "metadata": {},
   "outputs": [],
   "source": [
    "image_purple('AKVPgg5Ahko.jpg')"
   ]
  },
  {
   "cell_type": "code",
   "execution_count": 124,
   "metadata": {},
   "outputs": [],
   "source": [
    "def all_filters(image):\n",
    "    image_grey(image)\n",
    "    image_neg(image)\n",
    "    image_bw(image)\n",
    "    image_bright(image)\n",
    "    image_noise(image)\n",
    "    image_purple(image)"
   ]
  },
  {
   "cell_type": "code",
   "execution_count": 125,
   "metadata": {},
   "outputs": [
    {
     "name": "stdout",
     "output_type": "stream",
     "text": [
      "factor:10\n",
      "factor:-100\n",
      "factor:25\n"
     ]
    }
   ],
   "source": [
    "all_filters('AKVPgg5Ahko.jpg')"
   ]
  },
  {
   "cell_type": "code",
   "execution_count": null,
   "metadata": {},
   "outputs": [],
   "source": []
  }
 ],
 "metadata": {
  "kernelspec": {
   "display_name": "Python 3",
   "language": "python",
   "name": "python3"
  },
  "language_info": {
   "codemirror_mode": {
    "name": "ipython",
    "version": 3
   },
   "file_extension": ".py",
   "mimetype": "text/x-python",
   "name": "python",
   "nbconvert_exporter": "python",
   "pygments_lexer": "ipython3",
   "version": "3.7.4"
  }
 },
 "nbformat": 4,
 "nbformat_minor": 4
}
