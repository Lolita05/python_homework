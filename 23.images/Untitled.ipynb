{
 "cells": [
  {
   "cell_type": "code",
   "execution_count": 133,
   "metadata": {},
   "outputs": [],
   "source": [
    "from PIL import Image, ImageDraw\n",
    "from math import sqrt, pi, cos, sin\n",
    "from canny import canny_edge_detector\n",
    "from collections import defaultdict"
   ]
  },
  {
   "cell_type": "code",
   "execution_count": 146,
   "metadata": {},
   "outputs": [],
   "source": [
    "# Load image:\n",
    "input_image = Image.open(\"balls.jpg\")"
   ]
  },
  {
   "cell_type": "code",
   "execution_count": 147,
   "metadata": {},
   "outputs": [],
   "source": [
    "# Output image:\n",
    "output_image = Image.new(\"RGB\", input_image.size)\n",
    "output_image.paste(input_image)\n",
    "draw_result = ImageDraw.Draw(output_image)"
   ]
  },
  {
   "cell_type": "code",
   "execution_count": 148,
   "metadata": {},
   "outputs": [],
   "source": [
    "# Find circles\n",
    "rmin = 18\n",
    "rmax = 25\n",
    "steps = 100\n",
    "threshold = 0.4"
   ]
  },
  {
   "cell_type": "code",
   "execution_count": 149,
   "metadata": {},
   "outputs": [
    {
     "name": "stdout",
     "output_type": "stream",
     "text": [
      "0.75 29 91 23\n",
      "0.71 90 216 23\n",
      "0.7 90 154 23\n",
      "0.69 213 91 23\n",
      "0.65 214 215 21\n",
      "0.64 213 28 20\n",
      "0.62 214 155 23\n",
      "0.62 27 28 22\n",
      "0.61 150 90 22\n",
      "0.61 150 215 22\n",
      "0.6 151 154 23\n",
      "0.59 90 91 20\n",
      "0.57 150 30 20\n",
      "0.56 90 28 23\n",
      "0.53 27 155 20\n"
     ]
    }
   ],
   "source": [
    "points = []\n",
    "for r in range(rmin, rmax + 1):\n",
    "    for t in range(steps):\n",
    "        points.append((r, int(r * cos(2 * pi * t / steps)), int(r * sin(2 * pi * t / steps))))\n",
    "\n",
    "acc = defaultdict(int)\n",
    "for x, y in canny_edge_detector(input_image):\n",
    "    for r, dx, dy in points:\n",
    "        a = x - dx\n",
    "        b = y - dy\n",
    "        acc[(a, b, r)] += 1\n",
    "\n",
    "circles = []\n",
    "for k, v in sorted(acc.items(), key=lambda i: -i[1]):\n",
    "    x, y, r = k\n",
    "    if v / steps >= threshold and all((x - xc) ** 2 + (y - yc) ** 2 > rc ** 2 for xc, yc, rc in circles):\n",
    "        print(v / steps, x, y, r)\n",
    "        circles.append((x, y, r))\n",
    "\n",
    "for x, y, r in circles:\n",
    "    draw_result.ellipse((x-r, y-r, x+r, y+r), outline=(255,0,0,0))\n",
    "\n",
    "# Save output image\n",
    "output_image.save(\"result.png\")"
   ]
  },
  {
   "cell_type": "code",
   "execution_count": null,
   "metadata": {},
   "outputs": [],
   "source": []
  }
 ],
 "metadata": {
  "kernelspec": {
   "display_name": "Python 3",
   "language": "python",
   "name": "python3"
  },
  "language_info": {
   "codemirror_mode": {
    "name": "ipython",
    "version": 3
   },
   "file_extension": ".py",
   "mimetype": "text/x-python",
   "name": "python",
   "nbconvert_exporter": "python",
   "pygments_lexer": "ipython3",
   "version": "3.7.4"
  }
 },
 "nbformat": 4,
 "nbformat_minor": 4
}
