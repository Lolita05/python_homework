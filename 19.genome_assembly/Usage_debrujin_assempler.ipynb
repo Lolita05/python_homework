{
 "cells": [
  {
   "cell_type": "code",
   "execution_count": 135,
   "metadata": {},
   "outputs": [],
   "source": [
    "import Genome_assembler as ga"
   ]
  },
  {
   "cell_type": "code",
   "execution_count": 138,
   "metadata": {},
   "outputs": [],
   "source": [
    "assembly(\"/Users/lolitiy/Downloads/py-debruijn-master/g200reads.fa\", 7, \"/Users/lolitiy/Downloads/py-debruijn-master/out.fa\")"
   ]
  },
  {
   "cell_type": "code",
   "execution_count": 137,
   "metadata": {},
   "outputs": [],
   "source": [
    "def assembly(input_file, k, output_file):\n",
    "    reads = read_reads(input_file)\n",
    "    g = construct_graph(reads, k)\n",
    "    contig = output_contigs(g)\n",
    "    with open(output_file, 'w') as output:\n",
    "        output.write(f\">output_contig\\n{contig}\\n\")\n"
   ]
  },
  {
   "cell_type": "code",
   "execution_count": 127,
   "metadata": {},
   "outputs": [],
   "source": [
    "reads = read_reads(\"/Users/lolitiy/Downloads/py-debruijn-master/g200reads.fa\")"
   ]
  },
  {
   "cell_type": "code",
   "execution_count": 128,
   "metadata": {},
   "outputs": [],
   "source": [
    "g = construct_graph(reads, 7)"
   ]
  },
  {
   "cell_type": "code",
   "execution_count": 129,
   "metadata": {},
   "outputs": [
    {
     "data": {
      "text/plain": [
       "'AGCAGGGTCGCTCGTTAGCCTGGGATAATATGGTACGATCTAGTGGCCAAATATCTTGGACTGCTTCTGCAGGTCCGTTACATTTCTTAAGCTAGGCAAAACTCCACCCGTCACTTGAGATTCTTAGCACGAAACGAGAGCTTATGGCGTATGTTTCGCTTTAAGTTATTCCGATTCAGCCTACTGGCTGGCCGCC'"
      ]
     },
     "execution_count": 129,
     "metadata": {},
     "output_type": "execute_result"
    }
   ],
   "source": [
    "a = output_contigs(g)\n",
    "a"
   ]
  },
  {
   "cell_type": "code",
   "execution_count": 119,
   "metadata": {},
   "outputs": [
    {
     "ename": "AttributeError",
     "evalue": "'str' object has no attribute 'keys'",
     "output_type": "error",
     "traceback": [
      "\u001b[0;31m---------------------------------------------------------------------------\u001b[0m",
      "\u001b[0;31mAttributeError\u001b[0m                            Traceback (most recent call last)",
      "\u001b[0;32m<ipython-input-119-170f550deae9>\u001b[0m in \u001b[0;36m<module>\u001b[0;34m\u001b[0m\n\u001b[0;32m----> 1\u001b[0;31m \u001b[0mga\u001b[0m\u001b[0;34m.\u001b[0m\u001b[0moutput_contigs\u001b[0m\u001b[0;34m(\u001b[0m\u001b[0;34m\"g200reads.fa\"\u001b[0m\u001b[0;34m)\u001b[0m\u001b[0;34m\u001b[0m\u001b[0;34m\u001b[0m\u001b[0m\n\u001b[0m",
      "\u001b[0;32m~/Documents/inst_bioinf_19_20/python/python_homework/19.genome_assembly/Genome_assembler.py\u001b[0m in \u001b[0;36moutput_contigs\u001b[0;34m(g)\u001b[0m\n\u001b[1;32m     58\u001b[0m \u001b[0;34m\u001b[0m\u001b[0m\n\u001b[1;32m     59\u001b[0m     \u001b[0;32mreturn\u001b[0m \u001b[0mg\u001b[0m\u001b[0;34m\u001b[0m\u001b[0;34m\u001b[0m\u001b[0m\n\u001b[0;32m---> 60\u001b[0;31m \u001b[0;34m\u001b[0m\u001b[0m\n\u001b[0m\u001b[1;32m     61\u001b[0m \u001b[0;32mdef\u001b[0m \u001b[0moutput_contigs\u001b[0m\u001b[0;34m(\u001b[0m\u001b[0mg\u001b[0m\u001b[0;34m)\u001b[0m\u001b[0;34m:\u001b[0m\u001b[0;34m\u001b[0m\u001b[0;34m\u001b[0m\u001b[0m\n\u001b[1;32m     62\u001b[0m     \u001b[0;34m\"\"\" Perform searching for Eulerian path in the graph to output genome assembly\"\"\"\u001b[0m\u001b[0;34m\u001b[0m\u001b[0;34m\u001b[0m\u001b[0m\n",
      "\u001b[0;31mAttributeError\u001b[0m: 'str' object has no attribute 'keys'"
     ]
    }
   ],
   "source": [
    "ga.output_contigs(\"g200reads.fa\")"
   ]
  },
  {
   "cell_type": "code",
   "execution_count": null,
   "metadata": {},
   "outputs": [],
   "source": [
    "(vertices, edges)"
   ]
  },
  {
   "cell_type": "code",
   "execution_count": null,
   "metadata": {},
   "outputs": [],
   "source": [
    "#Argparse\n",
    "\n",
    "parser = argparse.ArgumentParser(prog='debrujin_assembler', description='Welcome to debrujin genome assembler tool')\n",
    "parser.add_argument('-i','--reads_input', required=True, type=str, metavar='fasta_name', help='fasta file with reads')\n",
    "parser.add_argument('-k', default = 5, type=int, metavar='INT', help='leanght of k-mer')\n",
    "parser.add_argument('-o','-output_contigs', default = 'out_assem.txt', type=str, metavar='txt_name', help='txt file with contigs')\n"
   ]
  }
 ],
 "metadata": {
  "kernelspec": {
   "display_name": "Python 3",
   "language": "python",
   "name": "python3"
  },
  "language_info": {
   "codemirror_mode": {
    "name": "ipython",
    "version": 3
   },
   "file_extension": ".py",
   "mimetype": "text/x-python",
   "name": "python",
   "nbconvert_exporter": "python",
   "pygments_lexer": "ipython3",
   "version": "3.7.4"
  }
 },
 "nbformat": 4,
 "nbformat_minor": 4
}
